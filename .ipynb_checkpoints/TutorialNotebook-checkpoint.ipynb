{
 "cells": [
  {
   "cell_type": "code",
   "execution_count": null,
   "id": "8a851128-36e1-4589-975e-ce3afe97d208",
   "metadata": {},
   "outputs": [],
   "source": [
    "run(`julia dependencies.jl`)\n",
    "run(`python dependenciesPy.py`)"
   ]
  },
  {
   "cell_type": "code",
   "execution_count": 6,
   "id": "33690fd7-f2e8-4ad2-887c-b5f83521e77c",
   "metadata": {},
   "outputs": [],
   "source": [
    "using PyCall"
   ]
  },
  {
   "cell_type": "code",
   "execution_count": null,
   "id": "11aa4ad6-ca1d-4f8d-9052-170bc1715384",
   "metadata": {},
   "outputs": [],
   "source": [
    "pyimport(\"astropy\")\n",
    "pyimport(\"matplotlib\")\n",
    "pyimport(\"numpy\")"
   ]
  },
  {
   "cell_type": "code",
   "execution_count": null,
   "id": "6e7cd651-266f-466f-b98a-a793696c07e2",
   "metadata": {},
   "outputs": [],
   "source": [
    "run(`julia shopt.jl [configdir] [outdir] [catalog]`)"
   ]
  },
  {
   "cell_type": "code",
   "execution_count": 11,
   "id": "8d4333f0-3ab2-40b3-8b70-cf87759fcc0a",
   "metadata": {},
   "outputs": [
    {
     "name": "stdout",
     "output_type": "stream",
     "text": [
      "/home/eddieberman/research/mcclearygroup/shopt\n"
     ]
    },
    {
     "data": {
      "text/plain": [
       "Process(`\u001b[4mpwd\u001b[24m`, ProcessExited(0))"
      ]
     },
     "execution_count": 11,
     "metadata": {},
     "output_type": "execute_result"
    }
   ],
   "source": [
    "# Reconstruct the PSF at an arbitrary (u,v)\n",
    "include(\"reader.jl\")\n",
    "u = rand(1)\n",
    "v = rand(1)\n",
    "polyMatrix, deg s_matrix, g1_matrix, g2_matrix = read_shopt(\"/path/summary.shopt\")\n",
    "p(u,v,polyMatrix, deg)\n"
   ]
  },
  {
   "cell_type": "code",
   "execution_count": null,
   "id": "d898c0db-7899-49d3-94a5-8679b6b68ff0",
   "metadata": {},
   "outputs": [],
   "source": [
    "# Example Runthrough"
   ]
  },
  {
   "cell_type": "code",
   "execution_count": 12,
   "id": "741517e5-a7a5-406e-8073-880b0c840f3e",
   "metadata": {},
   "outputs": [
    {
     "name": "stdout",
     "output_type": "stream",
     "text": [
      "---------------------\n",
      "| Parsing Arguments |\n",
      "---------------------\n",
      "━ Config Directory: /home/eddieberman/research/mcclearygroup/shopt/configdir\n",
      "━ Output Directory: /home/eddieberman/research/mcclearygroup/shopt/outdir\n",
      "━ Catalog: /home/eddieberman/research/mcclearygroup/cweb_psf/working/mosaic_nircam_f444w_COSMOS-Web_i2d_starcat.fits\n",
      "━ Outdir found\n",
      "  0.042444 seconds (21.77 k allocations: 1.787 MiB, 93.22% compilation time)\n",
      "--------------------\n",
      "| Handling Imports |\n",
      "--------------------\n",
      " 15.381506 seconds (25.72 M allocations: 1.603 GiB, 5.28% gc time, 15.85% compilation time: 90% of which was recompilation)\n",
      "━ Start Time 2023-07-18T10:13:07.546\n",
      "---------------------\n",
      "| Reading .jl Files |\n",
      "---------------------\n",
      "Key Config Choices:\n",
      "━ Max Epochs: 1000\n",
      "━ Polynomial Degree: 1\n",
      "━ Stamp Size: 131\n",
      "━ Signal to Noise Ratio Cutoff: 0.4\n",
      "━ Save YAML: true\n",
      "━ Stopping Analytic Fit Gradient Star Vignets: 1.0e-6\n",
      "━ Stopping Analytic Fit Gradient Learned Vignets: 1.0e-6\n",
      "━ Analytic Fit Stamp Size: 32\n",
      "━ Stopping Pixel Fit Gradient: 1.0e-6\n",
      "━ Print Unicode Plots: true\n",
      "━ Python Plots: false\n",
      "━ Parameters Histogram: true\n",
      "━ Parameters Scatterplot: true\n",
      "━ Stream Plots: false\n",
      "━ s Lower Bound: 0.075\n",
      "━ s Upper Bound: 1\n",
      "━ Training Ratio: 0.8\n",
      "━ Comments: \n",
      " ** This is Where You Can Leave Comments or Notes To Self on the Run! ** \n",
      "\n",
      "  2.953171 seconds (4.15 M allocations: 294.793 MiB, 3.85% gc time, 94.52% compilation time: 2% of which was recompilation)\n",
      "---------------------------\n",
      "| Processing Data for Fit |\n",
      "---------------------------\n",
      "                  signal to noise ratio           \n",
      "       ┌                                        ┐ \n",
      "             ╷┌───┬──────┐                  ╷     \n",
      "   snr       ├┤   │      ├──────────────────┤     \n",
      "             ╵└───┴──────┘                  ╵     \n",
      "       └                                        ┘ \n",
      "        -10               15                  40  \n",
      "━ Cutting off Stars below the 0.4 Percentile of Signal to Noise Ratio: 0.4958695453638287 , based off of snr = 10log[Σpix(I²/σ²)]\n",
      "━ Number of vignets: 53\n",
      "━ Removed 24 outliers on the basis of Signal to Noise Ratio\n",
      "━ Sampled all vignets to 131 x 131 from 261 x 261\n",
      "  3.727141 seconds (24.05 M allocations: 756.858 MiB, 10.97% gc time, 42.77% compilation time: 1% of which was recompilation)\n",
      "---------------------------------------\n",
      "| Analytic Profile Fit for Model Star |\n",
      "---------------------------------------\n"
     ]
    },
    {
     "name": "stderr",
     "output_type": "stream",
     "text": [
      "0.0%┣                                              ┫ 0/29 [00:01<00:-34, -1s/it]\n",
      "Star 1/29 Complete 3.4%┣▉                       ┫ 1/29 [00:05<Inf:Inf, InfGs/it]\n",
      "Star 3/29 Complete 10.3%┣███                         ┫ 3/29 [00:05<01:07, 3s/it]\n",
      "Star 4/29 Complete 13.8%┣███▉                        ┫ 4/29 [00:05<00:44, 2s/it]\n",
      "Star 6/29 Complete 20.7%┣█████▉                      ┫ 6/29 [00:05<00:25, 1s/it]\n",
      "Star 7/29 Complete 24.1%┣██████▊                     ┫ 7/29 [00:05<00:20, 1it/s]\n",
      "Star 8/29 Complete 27.6%┣███████▊                    ┫ 8/29 [00:06<00:17, 1it/s]\n",
      "Star 10/29 Complete 34.5%┣█████████                 ┫ 10/29 [00:06<00:12, 2it/s]\n",
      "Star 11/29 Complete 37.9%┣█████████▉                ┫ 11/29 [00:06<00:10, 2it/s]\n",
      "Star 12/29 Complete 41.4%┣██████████▊               ┫ 12/29 [00:06<00:09, 2it/s]\n",
      "Star 13/29 Complete 44.8%┣███████████▋              ┫ 13/29 [00:06<00:08, 2it/s]\n",
      "Star 14/29 Complete 48.3%┣████████████▌             ┫ 14/29 [00:06<00:07, 2it/s]\n",
      "Star 15/29 Complete 51.7%┣█████████████▌            ┫ 15/29 [00:06<00:06, 2it/s]\n",
      "Star 16/29 Complete 55.2%┣██████████████▍           ┫ 16/29 [00:06<00:05, 2it/s]\n",
      "Star 18/29 Complete 62.1%┣████████████████▏         ┫ 18/29 [00:06<00:04, 3it/s]\n",
      "Star 19/29 Complete 65.5%┣█████████████████         ┫ 19/29 [00:06<00:03, 3it/s]\n",
      "Star 20/29 Complete 69.0%┣██████████████████        ┫ 20/29 [00:06<00:03, 3it/s]\n",
      "Star 21/29 Complete 72.4%┣██████████████████▉       ┫ 21/29 [00:06<00:03, 3it/s]\n",
      "Star 23/29 Complete 79.3%┣████████████████████▋     ┫ 23/29 [00:06<00:02, 3it/s]\n",
      "Star 24/29 Complete 82.8%┣█████████████████████▌    ┫ 24/29 [00:06<00:01, 4it/s]\n",
      "Star 25/29 Complete 86.2%┣██████████████████████▍   ┫ 25/29 [00:07<00:01, 4it/s]\n",
      "Star 26/29 Complete 89.7%┣███████████████████████▎  ┫ 26/29 [00:07<00:01, 4it/s]\n",
      "Star 27/29 Complete 93.1%┣████████████████████████▏ ┫ 27/29 [00:07<00:01, 4it/s]\n",
      "Star 28/29 Complete 96.6%┣█████████████████████████ ┫ 28/29 [00:07<00:00, 4it/s]\n"
     ]
    },
    {
     "name": "stdout",
     "output_type": "stream",
     "text": [
      "  6.854745 seconds (73.29 M allocations: 4.773 GiB, 11.61% gc time, 73.39% compilation time)\n"
     ]
    },
    {
     "name": "stderr",
     "output_type": "stream",
     "text": [
      "Star 29/29 Complete 100.0%┣█████████████████████████┫ 29/29 [00:07<00:00, 4it/s]\n",
      "Star 29/29 Complete 100.0%┣█████████████████████████┫ 29/29 [00:07<00:00, 4it/s]\n"
     ]
    },
    {
     "name": "stdout",
     "output_type": "stream",
     "text": [
      "\n",
      "━ Blacklisted Stars: Any[5, 9]\n",
      "\n",
      "━ Blacklisted 2 stars on the basis of s < 0.075 or s > 1 (Failed Stars Assigned 0)\n",
      "------------------\n",
      "| Pixel Grid Fit |\n",
      "------------------\n"
     ]
    },
    {
     "name": "stderr",
     "output_type": "stream",
     "text": [
      "0.0%┣                                               ┫ 0/27 [00:00<00:00, -0s/it]\n",
      "Star 1/27 Complete 3.7%┣█                       ┫ 1/27 [00:14<Inf:Inf, InfGs/it]\n",
      "Star 2/27 Complete 7.4%┣██                          ┫ 2/27 [00:17<07:01, 17s/it]\n",
      "Star 3/27 Complete 11.1%┣███                        ┫ 3/27 [00:19<03:50, 10s/it]\n",
      "Star 4/27 Complete 14.8%┣████▏                       ┫ 4/27 [00:21<02:37, 7s/it]\n",
      "Star 5/27 Complete 18.5%┣█████▏                      ┫ 5/27 [00:23<02:05, 6s/it]\n",
      "Star 6/27 Complete 22.2%┣██████▏                     ┫ 6/27 [00:25<01:43, 5s/it]\n",
      "Star 7/27 Complete 25.9%┣███████▎                    ┫ 7/27 [00:26<01:26, 4s/it]\n",
      "Star 8/27 Complete 29.6%┣████████▎                   ┫ 8/27 [00:28<01:16, 4s/it]\n",
      "Star 9/27 Complete 33.3%┣█████████▎                  ┫ 9/27 [00:30<01:07, 4s/it]\n",
      "Star 10/27 Complete 37.0%┣█████████▋                ┫ 10/27 [00:31<00:59, 3s/it]\n",
      "Star 11/27 Complete 40.7%┣██████████▋               ┫ 11/27 [00:32<00:52, 3s/it]\n",
      "Star 12/27 Complete 44.4%┣███████████▌              ┫ 12/27 [00:34<00:46, 3s/it]\n",
      "Star 13/27 Complete 48.1%┣████████████▌             ┫ 13/27 [00:36<00:42, 3s/it]\n",
      "Star 14/27 Complete 51.9%┣█████████████▌            ┫ 14/27 [00:39<00:39, 3s/it]\n",
      "Star 15/27 Complete 55.6%┣██████████████▍           ┫ 15/27 [00:40<00:34, 3s/it]\n",
      "Star 16/27 Complete 59.3%┣███████████████▍          ┫ 16/27 [00:42<00:31, 3s/it]\n",
      "Star 17/27 Complete 63.0%┣████████████████▍         ┫ 17/27 [00:44<00:27, 3s/it]\n",
      "Star 18/27 Complete 66.7%┣█████████████████▎        ┫ 18/27 [00:46<00:24, 3s/it]\n",
      "Star 19/27 Complete 70.4%┣██████████████████▎       ┫ 19/27 [00:47<00:21, 3s/it]\n",
      "Star 20/27 Complete 74.1%┣███████████████████▎      ┫ 20/27 [00:50<00:18, 3s/it]\n",
      "Star 21/27 Complete 77.8%┣████████████████████▏     ┫ 21/27 [00:51<00:15, 3s/it]\n",
      "Star 22/27 Complete 81.5%┣█████████████████████▏    ┫ 22/27 [00:52<00:12, 2s/it]\n",
      "Star 23/27 Complete 85.2%┣██████████████████████▏   ┫ 23/27 [00:54<00:10, 2s/it]\n",
      "Star 24/27 Complete 88.9%┣███████████████████████   ┫ 24/27 [00:55<00:07, 2s/it]\n",
      "Star 25/27 Complete 92.6%┣████████████████████████  ┫ 25/27 [00:57<00:05, 2s/it]\n",
      "Star 26/27 Complete 96.3%┣█████████████████████████ ┫ 26/27 [00:59<00:02, 2s/it]\n"
     ]
    },
    {
     "name": "stdout",
     "output_type": "stream",
     "text": [
      " 60.410355 seconds (28.74 M allocations: 87.746 GiB, 4.37% gc time, 19.86% compilation time)\n"
     ]
    },
    {
     "name": "stderr",
     "output_type": "stream",
     "text": [
      "Star 27/27 Complete 100.0%┣█████████████████████████┫ 27/27 [01:00<00:00, 2s/it]\n",
      "Star 27/27 Complete 100.0%┣█████████████████████████┫ 27/27 [01:00<00:00, 2s/it]\n"
     ]
    },
    {
     "name": "stdout",
     "output_type": "stream",
     "text": [
      "━ failed stars:Any[]\n",
      "-----------------------------------------\n",
      "| Analytic Profile Fit for Learned Star |\n",
      "-----------------------------------------\n"
     ]
    },
    {
     "name": "stderr",
     "output_type": "stream",
     "text": [
      "0.0%┣                                               ┫ 0/27 [00:00<00:00, -0s/it]\n",
      "Star 1/27 Complete 3.7%┣█                       ┫ 1/27 [00:01<Inf:Inf, InfGs/it]\n",
      "Star 2/27 Complete 7.4%┣██▏                          ┫ 2/27 [00:01<00:17, 2it/s]\n",
      "Star 4/27 Complete 14.8%┣████▏                       ┫ 4/27 [00:01<00:06, 4it/s]\n",
      "Star 5/27 Complete 18.5%┣█████▏                      ┫ 5/27 [00:01<00:04, 5it/s]\n",
      "Star 6/27 Complete 22.2%┣██████▏                     ┫ 6/27 [00:01<00:04, 6it/s]\n",
      "Star 9/27 Complete 33.3%┣█████████▎                  ┫ 9/27 [00:01<00:02, 9it/s]\n",
      "Star 10/27 Complete 37.0%┣█████████▋                ┫ 10/27 [00:01<00:02, 9it/s]\n",
      "Star 11/27 Complete 40.7%┣██████████▏              ┫ 11/27 [00:01<00:02, 10it/s]\n",
      "Star 13/27 Complete 48.1%┣████████████             ┫ 13/27 [00:01<00:01, 11it/s]\n",
      "Star 14/27 Complete 51.9%┣█████████████            ┫ 14/27 [00:01<00:01, 11it/s]\n",
      "Star 16/27 Complete 59.3%┣██████████████▉          ┫ 16/27 [00:01<00:01, 12it/s]\n",
      "Star 18/27 Complete 66.7%┣████████████████▋        ┫ 18/27 [00:01<00:01, 12it/s]\n",
      "Star 20/27 Complete 74.1%┣██████████████████▌      ┫ 20/27 [00:01<00:01, 13it/s]\n",
      "Star 21/27 Complete 77.8%┣███████████████████▍     ┫ 21/27 [00:02<00:00, 13it/s]\n",
      "Star 23/27 Complete 85.2%┣█████████████████████▎   ┫ 23/27 [00:02<00:00, 14it/s]\n"
     ]
    },
    {
     "name": "stdout",
     "output_type": "stream",
     "text": [
      "  1.788102 seconds (58.48 M allocations: 3.819 GiB, 19.33% gc time, 29.31% compilation time)\n",
      "━ failed stars: Any[8]\n",
      "\n",
      "━ Rejected 1 more stars for failing or having either s < 0.075 or s > 1 when fitting an analytic profile to an autoencoded image. NB: These failed stars are being indexed after the blacklisted stars were removed.\n"
     ]
    },
    {
     "name": "stderr",
     "output_type": "stream",
     "text": [
      "Star 25/27 Complete 92.6%┣███████████████████████▏ ┫ 25/27 [00:02<00:00, 14it/s]\n",
      "Star 27/27 Complete 100.0%┣████████████████████████┫ 27/27 [00:02<00:00, 15it/s]\n",
      "Star 27/27 Complete 100.0%┣████████████████████████┫ 27/27 [00:02<00:00, 15it/s]\n"
     ]
    },
    {
     "name": "stdout",
     "output_type": "stream",
     "text": [
      "------------------------------------------------------------------------------------\n",
      "| Transforming (x,y) -> (u,v) | Interpolation [s, g1, g2] Across the Field of View |\n",
      "------------------------------------------------------------------------------------\n",
      "\n",
      "s(u,v) = \n",
      "0.05542122672182916 u³ \n",
      "+ 53.27517458423717 v³ \n",
      "+ -0.22908488980281844 u²v \n",
      "+ 1.9680329428906782 v²u \n",
      "+ -16.213385412524158 u² \n",
      "+ -667.5084213801252 v² \n",
      "+ 40.001761540385495 uv \n",
      "+ 1180.3975839561494 u \n",
      "+ 20.429779992466898 v \n",
      "+ 24.00118765080662\n",
      "\n",
      "\n",
      "g1(u,v) = \n",
      "-0.0006879344845147366 u³ \n",
      "+ -95.00557398458088 v³ \n",
      "+ -0.010745082891763569 u²v \n",
      "+ 4.461798951104078 v²u \n",
      "+ 0.16368123400125661 u² \n",
      "+ 0.8799308558894275 v² \n",
      "+ -8.878406818610982 uv \n",
      "+ -0.8775624978538109 u \n",
      "+ -0.009896262515395325 v \n",
      "+ 0.3633403265613274\n",
      "\n",
      "\n",
      "g2(u,v) = \n",
      "0.0043967051049592434 u³ \n",
      "+ -86.07067825910109 v³ \n",
      "+ -0.32155062103791526 u²v \n",
      "+ 4.217005217071778 v²u \n",
      "+ -0.6002710995199532 u² \n",
      "+ 1.5704692586947142 v² \n",
      "+ 37.845295510793896 uv \n",
      "+ -0.3983232841091978 u \n",
      "+ 1.009019881508226 v \n",
      "+ 0.9176877691789627\n",
      "\n",
      "---------------------------------------------------------------------------------------\n",
      "| Transforming (x,y) -> (u,v) | Interpolation Pixel by Pixel Across the Field of View |\n",
      "---------------------------------------------------------------------------------------\n",
      "  2.077348 seconds (49.28 M allocations: 1.777 GiB, 13.14% gc time, 25.97% compilation time)\n",
      "Sampled indices: [1, 2, 5]\n",
      "------------\n",
      "| Plotting |\n",
      "------------\n",
      "      Heatmap of star 13             \n",
      "      ┌───────────────┐             \n",
      "   15 │▄▄▄▄▄▄▄▄▄▄▄▄▄▄▄│  ┌──┐ 0.05  \n",
      "      │▄▄▄▄▄▄▄▄▄▄▄▄▄▄▄│  │\u001b[38;5;221;48;5;229m▄▄\u001b[0m│       \n",
      "      │▄▄▄▄▄▄▄▄▄▄▄▄▄▄▄│  │\u001b[38;5;208;48;5;214m▄▄\u001b[0m│       \n",
      "      │▄▄▄▄▄▄▄▄▄▄▄▄▄▄▄│  │\u001b[38;5;167;48;5;166m▄▄\u001b[0m│       \n",
      "      │▄▄▄▄▄▄▄▄▄▄▄▄▄▄▄│  │\u001b[38;5;89;48;5;125m▄▄\u001b[0m│       \n",
      "      │▄▄▄▄▄▄▄▄▄▄▄▄▄▄▄│  │\u001b[38;5;53;48;5;53m▄▄\u001b[0m│       \n",
      "      │▄▄▄▄▄▄▄▄▄▄▄▄▄▄▄│  │\u001b[38;5;16;48;5;17m▄▄\u001b[0m│       \n",
      "    1 │▄▄▄▄▄▄▄▄▄▄▄▄▄▄▄│  └──┘ 5.0e-5\n",
      "      └───────────────┘             \n",
      "       1            15              \n",
      "      Heatmap of Pixel Grid Fit 13             \n",
      "      ┌───────────────┐             \n",
      "   15 │▄▄▄▄▄▄▄▄▄▄▄▄▄▄▄│  ┌──┐ 0.06  \n",
      "      │▄▄▄▄▄▄▄▄▄▄▄▄▄▄▄│  │\u001b[38;5;221;48;5;229m▄▄\u001b[0m│       \n",
      "      │▄▄▄▄▄▄▄▄▄▄▄▄▄▄▄│  │\u001b[38;5;208;48;5;214m▄▄\u001b[0m│       \n",
      "      │▄▄▄▄▄▄▄▄▄▄▄▄▄▄▄│  │\u001b[38;5;167;48;5;166m▄▄\u001b[0m│       \n",
      "      │▄▄▄▄▄▄▄▄▄▄▄▄▄▄▄│  │\u001b[38;5;89;48;5;125m▄▄\u001b[0m│       \n",
      "      │▄▄▄▄▄▄▄▄▄▄▄▄▄▄▄│  │\u001b[38;5;53;48;5;53m▄▄\u001b[0m│       \n",
      "      │▄▄▄▄▄▄▄▄▄▄▄▄▄▄▄│  │\u001b[38;5;16;48;5;17m▄▄\u001b[0m│       \n",
      "    1 │▄▄▄▄▄▄▄▄▄▄▄▄▄▄▄│  └──┘ 5.0e-5\n",
      "      └───────────────┘             \n",
      "       1            15              \n",
      "      Heatmap of Residuals             \n",
      "      ┌───────────────┐             \n",
      "   15 │▄▄▄▄▄▄▄▄▄▄▄▄▄▄▄│  ┌──┐ 0.003 \n",
      "      │▄▄▄▄▄▄▄▄▄▄▄▄▄▄▄│  │\u001b[38;5;221;48;5;229m▄▄\u001b[0m│       \n",
      "      │▄▄▄▄▄▄▄▄▄▄▄▄▄▄▄│  │\u001b[38;5;208;48;5;214m▄▄\u001b[0m│       \n",
      "      │▄▄▄▄▄▄▄▄▄▄▄▄▄▄▄│  │\u001b[38;5;167;48;5;166m▄▄\u001b[0m│       \n",
      "      │▄▄▄▄▄▄▄▄▄▄▄▄▄▄▄│  │\u001b[38;5;89;48;5;125m▄▄\u001b[0m│       \n",
      "      │▄▄▄▄▄▄▄▄▄▄▄▄▄▄▄│  │\u001b[38;5;53;48;5;53m▄▄\u001b[0m│       \n",
      "      │▄▄▄▄▄▄▄▄▄▄▄▄▄▄▄│  │\u001b[38;5;16;48;5;17m▄▄\u001b[0m│       \n",
      "    1 │▄▄▄▄▄▄▄▄▄▄▄▄▄▄▄│  └──┘ -0.004\n",
      "      └───────────────┘             \n",
      "       1            15              \n",
      "  6.916428 seconds (18.31 M allocations: 1.127 GiB, 4.09% gc time, 95.69% compilation time: 40% of which was recompilation)\n",
      "                        Boxplot of df.shopt            \n",
      "            ┌                                        ┐ \n",
      "                                      ╷   ┌┬┐     ╷    \n",
      "    s model                           ├───┤│├─────┤    \n",
      "                                      ╵   └┴┘     ╵    \n",
      "                                         ╷ ┬┐      ╷   \n",
      "     s data                              ├─│├──────┤   \n",
      "                                         ╵ ┴┘      ╵   \n",
      "                      ╷        ┌─┬───┐   ╷             \n",
      "   g1 model           ├────────┤ │   ├───┤             \n",
      "                      ╵        └─┴───┘   ╵             \n",
      "                     ╷         ┌─┬───┐    ╷            \n",
      "    g1 data          ├─────────┤ │   ├────┤            \n",
      "                     ╵         └─┴───┘    ╵            \n",
      "             ╷   ┌─┬─────┐    ╷                        \n",
      "   g2 model  ├───┤ │     ├────┤                        \n",
      "             ╵   └─┴─────┘    ╵                        \n",
      "             ╷   ┌┬───┐        ╷                       \n",
      "    g2 data  ├───┤│   ├────────┤                       \n",
      "             ╵   └┴───┘        ╵                       \n",
      "            └                                        ┘ \n",
      "             -0.5             -0.05               0.4  \n",
      "--------------------------------\n",
      "| Saving Data to summary.shopt |\n",
      "--------------------------------\n",
      "Creating /home/eddieberman/research/mcclearygroup/shopt/outdir/2023-07-18T10:14:42.199 directory...\n",
      "------------\n",
      "| Done! =] |\n",
      "------------\n",
      "━ Total Time: 94.975 seconds\n",
      "For more on ShOpt.jl, see https://github.com/EdwardBerman/shopt\n"
     ]
    },
    {
     "data": {
      "text/plain": [
       "Process(`\u001b[4mjulia\u001b[24m \u001b[4mshopt.jl\u001b[24m \u001b[4m/home/eddieberman/research/mcclearygroup/shopt/configdir\u001b[24m \u001b[4m/home/eddieberman/research/mcclearygroup/shopt/outdir\u001b[24m \u001b[4m/home/eddieberman/research/mcclearygroup/cweb_psf/working/mosaic_nircam_f444w_COSMOS-Web_i2d_starcat.fits\u001b[24m`, ProcessExited(0))"
      ]
     },
     "execution_count": 12,
     "metadata": {},
     "output_type": "execute_result"
    }
   ],
   "source": [
    "run(`julia shopt.jl /home/eddieberman/research/mcclearygroup/shopt/configdir /home/eddieberman/research/mcclearygroup/shopt/outdir /home/eddieberman/research/mcclearygroup/cweb_psf/working/mosaic_nircam_f444w_COSMOS-Web_i2d_starcat.fits`)"
   ]
  },
  {
   "cell_type": "code",
   "execution_count": 26,
   "id": "6b31d965-ce21-41bf-9d7a-92645d69a33f",
   "metadata": {},
   "outputs": [
    {
     "name": "stdout",
     "output_type": "stream",
     "text": [
      "10:14:42_shopt.yml\n",
      "parametersHistogram.pdf\n",
      "parametersHistogram.png\n",
      "parametersScatterplot.pdf\n",
      "parametersScatterplot.png\n",
      "summary.shopt\n"
     ]
    },
    {
     "data": {
      "text/plain": [
       "131×131 Matrix{Float64}:\n",
       "  8.31155e-5    0.000106995   0.000195258  …   2.70157e-5   -8.40682e-6\n",
       " -0.000135155  -4.129e-5     -5.21906e-5      -4.26252e-5   -2.66778e-5\n",
       " -7.17823e-5    6.26037e-5   -0.000179814     -5.38177e-6    4.79491e-5\n",
       " -9.71934e-6   -8.05256e-5   -0.000181943      4.60617e-5   -1.5262e-5\n",
       " -6.47082e-5   -0.000127748  -0.000139393     -9.00821e-5   -9.57996e-5\n",
       "  6.23946e-5    3.17448e-5   -6.30503e-5   …   4.63064e-5   -5.1946e-5\n",
       "  0.000176625   0.000197931   5.93684e-5      -2.57029e-5    0.000111275\n",
       "  0.000155022   0.000159124  -0.000193035      0.000328856   3.77387e-5\n",
       " -0.000100096   5.12762e-7    5.91531e-5       0.00010579   -3.45004e-5\n",
       " -4.61595e-5   -7.47784e-5   -0.000117859     -1.15531e-5   -0.000175167\n",
       " -4.89069e-6   -0.000211097  -0.000313041  …  -0.000277761  -2.60506e-5\n",
       "  4.75413e-5    7.32113e-5   -0.000151627     -0.000152113   9.05073e-5\n",
       "  4.59698e-5   -3.82892e-5   -0.000134348      6.47083e-5    2.21293e-5\n",
       "  ⋮                                        ⋱                 ⋮\n",
       " -0.00011895   -0.000189563  -6.00985e-5      -0.000124949   8.36442e-5\n",
       " -8.14598e-5   -6.03772e-5   -0.000144211  …  -0.000187952  -0.000130462\n",
       " -5.41047e-5   -0.000144556   2.74595e-5      -1.69829e-5   -8.846e-5\n",
       " -0.000143464  -0.000351727  -0.000171511     -0.000257713   6.34773e-5\n",
       "  5.7848e-5    -0.000134762  -0.000147114     -0.000194248   7.79678e-5\n",
       " -0.000256554   3.72342e-6   -0.000150689      0.000149162   0.00010611\n",
       "  0.000172709   0.000181883   0.000263501  …  -5.31297e-5   -2.6878e-5\n",
       " -5.41232e-5    3.86533e-5    0.000127284      9.7356e-5     0.000117818\n",
       " -0.000247757  -2.00635e-5   -4.56911e-5      -3.41017e-5    9.72134e-5\n",
       " -0.000129911  -3.4336e-5    -2.05462e-5      -2.47122e-5    0.000106458\n",
       "  1.38368e-5    7.90466e-5   -2.65478e-5       0.000174178   0.000137192\n",
       " -7.91389e-5    0.000119      7.68231e-5   …   0.000264421   7.70648e-5"
      ]
     },
     "execution_count": 26,
     "metadata": {},
     "output_type": "execute_result"
    }
   ],
   "source": [
    "run(`ls /home/eddieberman/research/mcclearygroup/shopt/outdir/2023-07-18T10:14:42.199/`)\n",
    "include(\"reader.jl\")\n",
    "polyMatrix, deg, s_matrix, g1_matrix, g2_matrix = read_shopt(\"/home/eddieberman/research/mcclearygroup/shopt/outdir/2023-07-18T10:14:42.199/summary.shopt\")\n",
    "PSF = p(150,2.3,polyMatrix, deg)"
   ]
  },
  {
   "cell_type": "code",
   "execution_count": 1,
   "id": "8b44e7c1-4b90-47f6-bdec-134e52c39c5f",
   "metadata": {},
   "outputs": [
    {
     "ename": "LoadError",
     "evalue": "UndefVarError: `PSF` not defined",
     "output_type": "error",
     "traceback": [
      "UndefVarError: `PSF` not defined",
      "",
      "Stacktrace:",
      " [1] top-level scope",
      "   @ In[1]:9"
     ]
    }
   ],
   "source": [
    "using Plots\n",
    "function symlog(x, linthresh)\n",
    "    sign_x = sign(x)\n",
    "    abs_x = abs(x)\n",
    "    scaled = linthresh * log10(abs_x / linthresh + 1)\n",
    "    return sign_x * scaled\n",
    "end\n",
    "\n",
    "log_data = symlog.(PSF, 0.0001)\n"
   ]
  },
  {
   "cell_type": "code",
   "execution_count": 2,
   "id": "855ab322-e4bc-49da-994c-cc883e3d0df8",
   "metadata": {},
   "outputs": [
    {
     "ename": "LoadError",
     "evalue": "UndefVarError: `PSF` not defined",
     "output_type": "error",
     "traceback": [
      "UndefVarError: `PSF` not defined",
      "",
      "Stacktrace:",
      " [1] top-level scope",
      "   @ In[2]:2"
     ]
    }
   ],
   "source": [
    "# You Can Make This Nicer with Log Scaling and Image Processing Techniques\n",
    "heatmap(PSF)"
   ]
  },
  {
   "cell_type": "code",
   "execution_count": null,
   "id": "577d0a3f-1cde-4c2d-bc99-72be3e0c8ccf",
   "metadata": {},
   "outputs": [],
   "source": [
    "#Insert you're own radial function to this function and it will evaluate it at s(u,v), g1(u,v), g2(u,v)\n",
    "analytic_profile = analytic_profile(u,v, s_matrix, g1_matrix, g2_matrix, radial_function)"
   ]
  }
 ],
 "metadata": {
  "kernelspec": {
   "display_name": "Julia 1.9.1",
   "language": "julia",
   "name": "julia-1.9"
  },
  "language_info": {
   "file_extension": ".jl",
   "mimetype": "application/julia",
   "name": "julia",
   "version": "1.9.1"
  }
 },
 "nbformat": 4,
 "nbformat_minor": 5
}
