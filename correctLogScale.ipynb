{
 "cells": [
  {
   "cell_type": "code",
   "execution_count": 2,
   "id": "28d0c097-00ba-45d8-81cf-d5d327a0f076",
   "metadata": {},
   "outputs": [],
   "source": [
    "# in one Pluto.jl cell\n",
    "using CairoMakie"
   ]
  },
  {
   "cell_type": "code",
   "execution_count": 3,
   "id": "a8690aa8-d398-4c61-9bf0-47632ebe7d3f",
   "metadata": {},
   "outputs": [
    {
     "data": {
      "text/plain": [
       "dataprocessing (generic function with 1 method)"
      ]
     },
     "execution_count": 3,
     "metadata": {},
     "output_type": "execute_result"
    }
   ],
   "source": [
    "using PyCall\n",
    "using Noise\n",
    " \n",
    "function dataprocessing()\n",
    "    py\"\"\"\n",
    "    import webbpsf\n",
    "    nc = webbpsf.NIRCam()\n",
    "    psf = nc.calc_psf(nlambda=5, fov_arcsec=2)\n",
    "    a = psf[1].data\n",
    "    \"\"\"\n",
    "    julia_array = convert(Array{Float64,2}, py\"a\")\n",
    "    #julia_array = poisson(julia_array)\n",
    "    rows, cols = size(julia_array)\n",
    "    return julia_array, rows, cols\n",
    "end\n"
   ]
  },
  {
   "cell_type": "code",
   "execution_count": 4,
   "id": "546df58d-86e3-4b7b-a0f3-58a4fd7cb4d8",
   "metadata": {},
   "outputs": [
    {
     "data": {
      "text/plain": [
       "([2.162435323335774e-6 2.501653454340874e-6 … 2.086406269169631e-6 1.696813589667094e-6; 1.4836658232327004e-6 2.784709288319623e-6 … 2.5787806119636184e-6 1.308505256332213e-6; … ; 2.877581050640406e-6 4.6372726892391834e-6 … 3.4840141014390183e-6 1.8701798738398946e-6; 3.3241076468775753e-6 2.8353118835471594e-6 … 2.8920341028621527e-6 2.575350338807949e-6], 64, 64)"
      ]
     },
     "execution_count": 4,
     "metadata": {},
     "output_type": "execute_result"
    }
   ],
   "source": [
    "star, r, c = dataprocessing()"
   ]
  },
  {
   "cell_type": "code",
   "execution_count": 8,
   "id": "33ee3b89-eb3b-4bda-b648-7eb584becacd",
   "metadata": {},
   "outputs": [
    {
     "data": {
      "text/plain": [
       "CairoScreen{Cairo.CairoSurfaceBase{UInt32}} with surface:\n",
       "Cairo.CairoSurfaceBase{UInt32}(Ptr{Nothing} @0x0000000012b43650, 800.0, 600.0)\n"
      ]
     },
     "execution_count": 8,
     "metadata": {},
     "output_type": "execute_result"
    }
   ],
   "source": [
    "\n",
    "\n",
    "# another Pluto.jl Cell\n",
    "let\n",
    "# cf. https://github.com/JuliaPlots/Makie.jl/issues/822#issuecomment-769684652\n",
    "# with scale argument that is required now\n",
    "struct LogMinorTicks end\n",
    "\n",
    "    function MakieLayout.get_minor_tickvalues(::LogMinorTicks, scale, tickvalues, vmin, vmax)\n",
    "        vals = Float64[]\n",
    "        for (lo, hi) in zip(\n",
    "                @view(tickvalues[1:end-1]),\n",
    "                @view(tickvalues[2:end]))\n",
    "            interval = hi-lo\n",
    "            steps = log10.(LinRange(10^lo, 10^hi, 11))\n",
    "            append!(vals, steps[2:end-1])\n",
    "        end\n",
    "        vals\n",
    "    end\n",
    "\n",
    "custom_formatter(values) = map(v -> \"10\" * Makie.UnicodeFun.to_superscript(round(Int64, v)), values)\n",
    "    data = star\n",
    "    fig = Figure()\n",
    "    ax, hm = heatmap(fig[1, 1], log10.(data),\n",
    "    axis=(; xminorticksvisible=true,\n",
    "       xminorticks=IntervalsBetween(9)))\n",
    "    ax.xlabel = \"U\"\n",
    "    ax.ylabel = \"V\"\n",
    "    cb = Colorbar(fig[1, 2], hm;\n",
    "    tickformat=custom_formatter,\n",
    "    minorticksvisible=true,\n",
    "    minorticks=LogMinorTicks())\n",
    "    ax.title = \"Log Scale Model PSF\"\n",
    "    save(joinpath(\"outdir\", \"test.png\"), fig)\n",
    "end"
   ]
  }
 ],
 "metadata": {
  "kernelspec": {
   "display_name": "Julia 1.8.4",
   "language": "julia",
   "name": "julia-1.8"
  },
  "language_info": {
   "file_extension": ".jl",
   "mimetype": "application/julia",
   "name": "julia",
   "version": "1.8.5"
  }
 },
 "nbformat": 4,
 "nbformat_minor": 5
}
