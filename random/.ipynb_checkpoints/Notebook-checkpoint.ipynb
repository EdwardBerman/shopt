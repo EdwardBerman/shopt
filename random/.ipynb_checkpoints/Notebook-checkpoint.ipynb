{
 "cells": [
  {
   "cell_type": "code",
   "execution_count": 1,
   "id": "e736bf79-f0fd-468d-b292-ac138f22034a",
   "metadata": {},
   "outputs": [
    {
     "data": {
      "text/plain": [
       "dataprocessing (generic function with 1 method)"
      ]
     },
     "execution_count": 1,
     "metadata": {},
     "output_type": "execute_result"
    }
   ],
   "source": [
    "using PyCall\n",
    "function dataprocessing()\n",
    "    py\"\"\"\n",
    "    import webbpsf\n",
    "    nc = webbpsf.NIRCam()\n",
    "    psf = nc.calc_psf(nlambda=5, fov_arcsec=2)\n",
    "    a = psf[1].data\n",
    "    \"\"\"\n",
    "    \n",
    "    julia_array = convert(Array{Float64,2}, py\"a\")\n",
    "    #julia_array = poisson(julia_array)\n",
    "    rows, cols = size(julia_array)\n",
    "    return julia_array, rows, cols\n",
    "end\n"
   ]
  },
  {
   "cell_type": "code",
   "execution_count": 2,
   "id": "dca04309-3eb3-4720-8340-80aaf6ba6cbc",
   "metadata": {},
   "outputs": [
    {
     "ename": "LoadError",
     "evalue": "PyError ($(Expr(:escape, :(ccall(#= /home/eddieberman/.julia/packages/PyCall/twYvK/src/pyeval.jl:38 =# @pysym(:PyEval_EvalCode), PyPtr, (PyPtr, PyPtr, PyPtr), o, globals, locals))))) <class 'OSError'>\nOSError('WEBBPSF_PATH (datadir/webbpsf-data-1.1.1/webbpsf-data) is not a valid directory path!\\n\\n ***********  ERROR  ******  ERROR  ******  ERROR  ******  ERROR  ***********\\n *                                                                          *\\n *  WebbPSF requires several data files to operate.                         *\\n *  These files could not be located automatically at this time, or this    *\\n *  version of the software requires a newer set of reference files than    *\\n *  you have installed.  For more details see:                              *\\n *                                                                          *\\n *        https://webbpsf.readthedocs.io/en/stable/installation.html        *\\n *                                                                          *\\n *  under \"Installing the Required Data Files\".                             *\\n *  WebbPSF will not be able to function properly until the appropriate     *\\n *  reference files have been downloaded to your machine and installed.     *\\n *                                                                          *\\n ****************************************************************************\\n')\n  File \"/home/eddieberman/.julia/packages/PyCall/twYvK/src/pyeval.jl\", line 2, in <module>\n    const Py_file_input = 257\n  File \"/home/eddieberman/.julia/conda/3/lib/python3.10/site-packages/webbpsf/webbpsf_core.py\", line 1916, in __init__\n    JWInstrument.__init__(self, \"NIRCam\")  # do this after setting the long & short scales.\n  File \"/home/eddieberman/.julia/conda/3/lib/python3.10/site-packages/webbpsf/webbpsf_core.py\", line 768, in __init__\n    super(JWInstrument, self).__init__(*args, **kwargs)\n  File \"/home/eddieberman/.julia/conda/3/lib/python3.10/site-packages/webbpsf/webbpsf_core.py\", line 176, in __init__\n    self._WebbPSF_basepath, self._data_version = utils.get_webbpsf_data_path(\n  File \"/home/eddieberman/.julia/conda/3/lib/python3.10/site-packages/webbpsf/utils.py\", line 210, in get_webbpsf_data_path\n    raise IOError(f\"WEBBPSF_PATH ({path}) is not a valid directory path!\\n{MISSING_WEBBPSF_DATA_MESSAGE}\")\n",
     "output_type": "error",
     "traceback": [
      "PyError ($(Expr(:escape, :(ccall(#= /home/eddieberman/.julia/packages/PyCall/twYvK/src/pyeval.jl:38 =# @pysym(:PyEval_EvalCode), PyPtr, (PyPtr, PyPtr, PyPtr), o, globals, locals))))) <class 'OSError'>\nOSError('WEBBPSF_PATH (datadir/webbpsf-data-1.1.1/webbpsf-data) is not a valid directory path!\\n\\n ***********  ERROR  ******  ERROR  ******  ERROR  ******  ERROR  ***********\\n *                                                                          *\\n *  WebbPSF requires several data files to operate.                         *\\n *  These files could not be located automatically at this time, or this    *\\n *  version of the software requires a newer set of reference files than    *\\n *  you have installed.  For more details see:                              *\\n *                                                                          *\\n *        https://webbpsf.readthedocs.io/en/stable/installation.html        *\\n *                                                                          *\\n *  under \"Installing the Required Data Files\".                             *\\n *  WebbPSF will not be able to function properly until the appropriate     *\\n *  reference files have been downloaded to your machine and installed.     *\\n *                                                                          *\\n ****************************************************************************\\n')\n  File \"/home/eddieberman/.julia/packages/PyCall/twYvK/src/pyeval.jl\", line 2, in <module>\n    const Py_file_input = 257\n  File \"/home/eddieberman/.julia/conda/3/lib/python3.10/site-packages/webbpsf/webbpsf_core.py\", line 1916, in __init__\n    JWInstrument.__init__(self, \"NIRCam\")  # do this after setting the long & short scales.\n  File \"/home/eddieberman/.julia/conda/3/lib/python3.10/site-packages/webbpsf/webbpsf_core.py\", line 768, in __init__\n    super(JWInstrument, self).__init__(*args, **kwargs)\n  File \"/home/eddieberman/.julia/conda/3/lib/python3.10/site-packages/webbpsf/webbpsf_core.py\", line 176, in __init__\n    self._WebbPSF_basepath, self._data_version = utils.get_webbpsf_data_path(\n  File \"/home/eddieberman/.julia/conda/3/lib/python3.10/site-packages/webbpsf/utils.py\", line 210, in get_webbpsf_data_path\n    raise IOError(f\"WEBBPSF_PATH ({path}) is not a valid directory path!\\n{MISSING_WEBBPSF_DATA_MESSAGE}\")\n",
      "",
      "Stacktrace:",
      "  [1] pyerr_check",
      "    @ ~/.julia/packages/PyCall/twYvK/src/exception.jl:75 [inlined]",
      "  [2] pyerr_check",
      "    @ ~/.julia/packages/PyCall/twYvK/src/exception.jl:79 [inlined]",
      "  [3] _handle_error(msg::String)",
      "    @ PyCall ~/.julia/packages/PyCall/twYvK/src/exception.jl:96",
      "  [4] macro expansion",
      "    @ ~/.julia/packages/PyCall/twYvK/src/exception.jl:110 [inlined]",
      "  [5] #117",
      "    @ ~/.julia/packages/PyCall/twYvK/src/pyeval.jl:38 [inlined]",
      "  [6] disable_sigint",
      "    @ ./c.jl:473 [inlined]",
      "  [7] pyeval_(s::String, globals::PyDict{String, PyObject, true}, locals::PyDict{String, PyObject, true}, input_type::Int64, fname::String)",
      "    @ PyCall ~/.julia/packages/PyCall/twYvK/src/pyeval.jl:37",
      "  [8] macro expansion",
      "    @ ~/.julia/packages/PyCall/twYvK/src/pyeval.jl:230 [inlined]",
      "  [9] dataprocessing()",
      "    @ Main ./In[1]:3",
      " [10] top-level scope",
      "    @ In[2]:1"
     ]
    }
   ],
   "source": [
    "star, r, c = dataprocessing()"
   ]
  },
  {
   "cell_type": "code",
   "execution_count": 5,
   "id": "ad7de80f-5740-40bd-8899-efa2faf39098",
   "metadata": {},
   "outputs": [
    {
     "ename": "LoadError",
     "evalue": "syntax: incomplete: premature end of input",
     "output_type": "error",
     "traceback": [
      "syntax: incomplete: premature end of input",
      "",
      "Stacktrace:",
      " [1] top-level scope",
      "   @ In[5]:1"
     ]
    }
   ],
   "source": [
    "\n"
   ]
  }
 ],
 "metadata": {
  "kernelspec": {
   "display_name": "Julia 1.8.4",
   "language": "julia",
   "name": "julia-1.8"
  },
  "language_info": {
   "file_extension": ".jl",
   "mimetype": "application/julia",
   "name": "julia",
   "version": "1.8.5"
  }
 },
 "nbformat": 4,
 "nbformat_minor": 5
}
