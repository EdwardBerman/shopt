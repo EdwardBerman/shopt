{
 "cells": [
  {
   "cell_type": "code",
   "execution_count": null,
   "id": "8a851128-36e1-4589-975e-ce3afe97d208",
   "metadata": {},
   "outputs": [],
   "source": [
    "run(`julia dependencies.jl`)\n",
    "run(`python dependenciesPy.py`)"
   ]
  },
  {
   "cell_type": "code",
   "execution_count": 6,
   "id": "33690fd7-f2e8-4ad2-887c-b5f83521e77c",
   "metadata": {},
   "outputs": [],
   "source": [
    "using PyCall"
   ]
  },
  {
   "cell_type": "code",
   "execution_count": null,
   "id": "11aa4ad6-ca1d-4f8d-9052-170bc1715384",
   "metadata": {},
   "outputs": [],
   "source": [
    "pyimport(\"astropy\")\n",
    "pyimport(\"matplotlib\")\n",
    "pyimport(\"numpy\")"
   ]
  },
  {
   "cell_type": "code",
   "execution_count": null,
   "id": "6e7cd651-266f-466f-b98a-a793696c07e2",
   "metadata": {},
   "outputs": [],
   "source": [
    "run(`julia shopt.jl [configdir] [outdir] [catalog]`)"
   ]
  },
  {
   "cell_type": "code",
   "execution_count": 11,
   "id": "8d4333f0-3ab2-40b3-8b70-cf87759fcc0a",
   "metadata": {},
   "outputs": [
    {
     "name": "stdout",
     "output_type": "stream",
     "text": [
      "/home/eddieberman/research/mcclearygroup/shopt\n"
     ]
    },
    {
     "data": {
      "text/plain": [
       "Process(`\u001b[4mpwd\u001b[24m`, ProcessExited(0))"
      ]
     },
     "execution_count": 11,
     "metadata": {},
     "output_type": "execute_result"
    }
   ],
   "source": [
    "cd /path/output_directory\n",
    "# Reconstruct the PSF at an arbitrary (u,v)\n",
    "u = rand(1)\n",
    "v = rand(1)\n",
    "polyMatrix, deg = read_shopt(\"summary.shopt\")\n",
    "p(u,v,polyMatrix, deg)\n"
   ]
  }
 ],
 "metadata": {
  "kernelspec": {
   "display_name": "Julia 1.9.1",
   "language": "julia",
   "name": "julia-1.9"
  },
  "language_info": {
   "file_extension": ".jl",
   "mimetype": "application/julia",
   "name": "julia",
   "version": "1.9.1"
  }
 },
 "nbformat": 4,
 "nbformat_minor": 5
}
