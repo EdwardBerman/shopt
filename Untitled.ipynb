{
 "cells": [
  {
   "cell_type": "code",
   "execution_count": 6,
   "id": "33690fd7-f2e8-4ad2-887c-b5f83521e77c",
   "metadata": {},
   "outputs": [],
   "source": [
    "using PyCall"
   ]
  },
  {
   "cell_type": "code",
   "execution_count": 8,
   "id": "4b2a9c92-9080-405c-a6c2-122741be771e",
   "metadata": {},
   "outputs": [
    {
     "data": {
      "text/plain": [
       "PyObject <module 'numpy' from '/home/eddieberman/miniconda3/envs/myenv/lib/python3.11/site-packages/numpy/__init__.py'>"
      ]
     },
     "execution_count": 8,
     "metadata": {},
     "output_type": "execute_result"
    }
   ],
   "source": [
    "pyimport(\"astropy\")\n",
    "pyimport(\"matplotlib\")\n",
    "pyimport(\"numpy\")"
   ]
  },
  {
   "cell_type": "code",
   "execution_count": 9,
   "id": "6d439b2f-6453-4115-92df-8401c1b6ad71",
   "metadata": {},
   "outputs": [
    {
     "ename": "LoadError",
     "evalue": "LoadError: parsing command `./runshopt.sh [configdir] [outdir] [catalog] [scifile]`: special characters \"#{}()[]<>|&*?~;\" must be quoted in commands\nin expression starting at In[9]:1",
     "output_type": "error",
     "traceback": [
      "LoadError: parsing command `./runshopt.sh [configdir] [outdir] [catalog] [scifile]`: special characters \"#{}()[]<>|&*?~;\" must be quoted in commands\nin expression starting at In[9]:1",
      "",
      "Stacktrace:",
      " [1] error(s::String)",
      "   @ Base ./error.jl:35",
      " [2] shell_parse(str::String, interpolate::Bool; special::String, filename::String)",
      "   @ Base ./shell.jl:116",
      " [3] shell_parse",
      "   @ ./shell.jl:19 [inlined]",
      " [4] var\"@cmd\"(__source__::LineNumberNode, __module__::Module, str::Any)",
      "   @ Base ./cmd.jl:493"
     ]
    }
   ],
   "source": [
    "run(`./runshopt.sh [configdir] [outdir] [catalog] [scifile]`)"
   ]
  },
  {
   "cell_type": "code",
   "execution_count": 11,
   "id": "8d4333f0-3ab2-40b3-8b70-cf87759fcc0a",
   "metadata": {},
   "outputs": [
    {
     "name": "stdout",
     "output_type": "stream",
     "text": [
      "/home/eddieberman/research/mcclearygroup/shopt\n"
     ]
    },
    {
     "data": {
      "text/plain": [
       "Process(`\u001b[4mpwd\u001b[24m`, ProcessExited(0))"
      ]
     },
     "execution_count": 11,
     "metadata": {},
     "output_type": "execute_result"
    }
   ],
   "source": [
    "# cd into output directory\n",
    "u  = rand(1)\n",
    "v = rand(1)\n",
    "polyMatrix, deg = read_shopt(\"summary.shopt\")\n",
    "p(u,v,polyMatrix, deg)\n"
   ]
  }
 ],
 "metadata": {
  "kernelspec": {
   "display_name": "Julia 1.9.1",
   "language": "julia",
   "name": "julia-1.9"
  },
  "language_info": {
   "file_extension": ".jl",
   "mimetype": "application/julia",
   "name": "julia",
   "version": "1.9.1"
  }
 },
 "nbformat": 4,
 "nbformat_minor": 5
}
