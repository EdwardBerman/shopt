{
 "cells": [
  {
   "cell_type": "code",
   "execution_count": null,
   "id": "66a9d99d-6dee-4cdb-8618-d9e0787c7044",
   "metadata": {},
   "outputs": [],
   "source": [
    "#TutorialNotebook"
   ]
  }
 ],
 "metadata": {
  "kernelspec": {
   "display_name": "Julia 1.8.4",
   "language": "julia",
   "name": "julia-1.8"
  },
  "language_info": {
   "file_extension": ".jl",
   "mimetype": "application/julia",
   "name": "julia",
   "version": "1.8.5"
  }
 },
 "nbformat": 4,
 "nbformat_minor": 5
}
